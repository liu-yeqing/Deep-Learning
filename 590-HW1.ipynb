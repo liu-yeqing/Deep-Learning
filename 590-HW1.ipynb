{
 "cells": [
  {
   "cell_type": "markdown",
   "metadata": {},
   "source": [
    "# ANLY590 HW1\n",
    "### Yeqing Liu"
   ]
  },
  {
   "cell_type": "markdown",
   "metadata": {},
   "source": [
    "## 1 Regularization"
   ]
  },
  {
   "cell_type": "code",
   "execution_count": 68,
   "metadata": {},
   "outputs": [],
   "source": [
    "import pandas as pd\n",
    "import random\n",
    "import numpy as np\n",
    "import matplotlib.pyplot as plt\n",
    "from sklearn.linear_model import Lasso,Ridge,LassoCV,RidgeCV\n",
    "from sklearn.preprocessing import scale\n",
    "from sklearn.cross_validation import train_test_split"
   ]
  },
  {
   "cell_type": "code",
   "execution_count": 69,
   "metadata": {},
   "outputs": [
    {
     "data": {
      "text/plain": [
       "Unnamed: 0     object\n",
       "AtBat           int64\n",
       "Hits            int64\n",
       "HmRun           int64\n",
       "Runs            int64\n",
       "RBI             int64\n",
       "Walks           int64\n",
       "Years           int64\n",
       "CAtBat          int64\n",
       "CHits           int64\n",
       "CHmRun          int64\n",
       "CRuns           int64\n",
       "CRBI            int64\n",
       "CWalks          int64\n",
       "League         object\n",
       "Division       object\n",
       "PutOuts         int64\n",
       "Assists         int64\n",
       "Errors          int64\n",
       "Salary        float64\n",
       "NewLeague      object\n",
       "dtype: object"
      ]
     },
     "execution_count": 69,
     "metadata": {},
     "output_type": "execute_result"
    }
   ],
   "source": [
    "data=pd.read_csv('/Users/qq/Desktop/data/Hitters.csv')\n",
    "data=data.dropna() # remove NANs\n",
    "data.dtypes"
   ]
  },
  {
   "cell_type": "code",
   "execution_count": 70,
   "metadata": {},
   "outputs": [
    {
     "data": {
      "text/html": [
       "<div>\n",
       "<style>\n",
       "    .dataframe thead tr:only-child th {\n",
       "        text-align: right;\n",
       "    }\n",
       "\n",
       "    .dataframe thead th {\n",
       "        text-align: left;\n",
       "    }\n",
       "\n",
       "    .dataframe tbody tr th {\n",
       "        vertical-align: top;\n",
       "    }\n",
       "</style>\n",
       "<table border=\"1\" class=\"dataframe\">\n",
       "  <thead>\n",
       "    <tr style=\"text-align: right;\">\n",
       "      <th></th>\n",
       "      <th>Name</th>\n",
       "      <th>AtBat</th>\n",
       "      <th>Hits</th>\n",
       "      <th>HmRun</th>\n",
       "      <th>Runs</th>\n",
       "      <th>RBI</th>\n",
       "      <th>Walks</th>\n",
       "      <th>Years</th>\n",
       "      <th>CAtBat</th>\n",
       "      <th>CHits</th>\n",
       "      <th>...</th>\n",
       "      <th>CRuns</th>\n",
       "      <th>CRBI</th>\n",
       "      <th>CWalks</th>\n",
       "      <th>League</th>\n",
       "      <th>Division</th>\n",
       "      <th>PutOuts</th>\n",
       "      <th>Assists</th>\n",
       "      <th>Errors</th>\n",
       "      <th>Salary</th>\n",
       "      <th>NewLeague</th>\n",
       "    </tr>\n",
       "  </thead>\n",
       "  <tbody>\n",
       "    <tr>\n",
       "      <th>1</th>\n",
       "      <td>-Alan Ashby</td>\n",
       "      <td>315</td>\n",
       "      <td>81</td>\n",
       "      <td>7</td>\n",
       "      <td>24</td>\n",
       "      <td>38</td>\n",
       "      <td>39</td>\n",
       "      <td>14</td>\n",
       "      <td>3449</td>\n",
       "      <td>835</td>\n",
       "      <td>...</td>\n",
       "      <td>321</td>\n",
       "      <td>414</td>\n",
       "      <td>375</td>\n",
       "      <td>N</td>\n",
       "      <td>W</td>\n",
       "      <td>632</td>\n",
       "      <td>43</td>\n",
       "      <td>10</td>\n",
       "      <td>475.0</td>\n",
       "      <td>N</td>\n",
       "    </tr>\n",
       "    <tr>\n",
       "      <th>2</th>\n",
       "      <td>-Alvin Davis</td>\n",
       "      <td>479</td>\n",
       "      <td>130</td>\n",
       "      <td>18</td>\n",
       "      <td>66</td>\n",
       "      <td>72</td>\n",
       "      <td>76</td>\n",
       "      <td>3</td>\n",
       "      <td>1624</td>\n",
       "      <td>457</td>\n",
       "      <td>...</td>\n",
       "      <td>224</td>\n",
       "      <td>266</td>\n",
       "      <td>263</td>\n",
       "      <td>A</td>\n",
       "      <td>W</td>\n",
       "      <td>880</td>\n",
       "      <td>82</td>\n",
       "      <td>14</td>\n",
       "      <td>480.0</td>\n",
       "      <td>A</td>\n",
       "    </tr>\n",
       "    <tr>\n",
       "      <th>3</th>\n",
       "      <td>-Andre Dawson</td>\n",
       "      <td>496</td>\n",
       "      <td>141</td>\n",
       "      <td>20</td>\n",
       "      <td>65</td>\n",
       "      <td>78</td>\n",
       "      <td>37</td>\n",
       "      <td>11</td>\n",
       "      <td>5628</td>\n",
       "      <td>1575</td>\n",
       "      <td>...</td>\n",
       "      <td>828</td>\n",
       "      <td>838</td>\n",
       "      <td>354</td>\n",
       "      <td>N</td>\n",
       "      <td>E</td>\n",
       "      <td>200</td>\n",
       "      <td>11</td>\n",
       "      <td>3</td>\n",
       "      <td>500.0</td>\n",
       "      <td>N</td>\n",
       "    </tr>\n",
       "    <tr>\n",
       "      <th>4</th>\n",
       "      <td>-Andres Galarraga</td>\n",
       "      <td>321</td>\n",
       "      <td>87</td>\n",
       "      <td>10</td>\n",
       "      <td>39</td>\n",
       "      <td>42</td>\n",
       "      <td>30</td>\n",
       "      <td>2</td>\n",
       "      <td>396</td>\n",
       "      <td>101</td>\n",
       "      <td>...</td>\n",
       "      <td>48</td>\n",
       "      <td>46</td>\n",
       "      <td>33</td>\n",
       "      <td>N</td>\n",
       "      <td>E</td>\n",
       "      <td>805</td>\n",
       "      <td>40</td>\n",
       "      <td>4</td>\n",
       "      <td>91.5</td>\n",
       "      <td>N</td>\n",
       "    </tr>\n",
       "    <tr>\n",
       "      <th>5</th>\n",
       "      <td>-Alfredo Griffin</td>\n",
       "      <td>594</td>\n",
       "      <td>169</td>\n",
       "      <td>4</td>\n",
       "      <td>74</td>\n",
       "      <td>51</td>\n",
       "      <td>35</td>\n",
       "      <td>11</td>\n",
       "      <td>4408</td>\n",
       "      <td>1133</td>\n",
       "      <td>...</td>\n",
       "      <td>501</td>\n",
       "      <td>336</td>\n",
       "      <td>194</td>\n",
       "      <td>A</td>\n",
       "      <td>W</td>\n",
       "      <td>282</td>\n",
       "      <td>421</td>\n",
       "      <td>25</td>\n",
       "      <td>750.0</td>\n",
       "      <td>A</td>\n",
       "    </tr>\n",
       "  </tbody>\n",
       "</table>\n",
       "<p>5 rows × 21 columns</p>\n",
       "</div>"
      ],
      "text/plain": [
       "                Name  AtBat  Hits  HmRun  Runs  RBI  Walks  Years  CAtBat  \\\n",
       "1        -Alan Ashby    315    81      7    24   38     39     14    3449   \n",
       "2       -Alvin Davis    479   130     18    66   72     76      3    1624   \n",
       "3      -Andre Dawson    496   141     20    65   78     37     11    5628   \n",
       "4  -Andres Galarraga    321    87     10    39   42     30      2     396   \n",
       "5   -Alfredo Griffin    594   169      4    74   51     35     11    4408   \n",
       "\n",
       "   CHits    ...      CRuns  CRBI  CWalks  League Division PutOuts  Assists  \\\n",
       "1    835    ...        321   414     375       N        W     632       43   \n",
       "2    457    ...        224   266     263       A        W     880       82   \n",
       "3   1575    ...        828   838     354       N        E     200       11   \n",
       "4    101    ...         48    46      33       N        E     805       40   \n",
       "5   1133    ...        501   336     194       A        W     282      421   \n",
       "\n",
       "   Errors  Salary  NewLeague  \n",
       "1      10   475.0          N  \n",
       "2      14   480.0          A  \n",
       "3       3   500.0          N  \n",
       "4       4    91.5          N  \n",
       "5      25   750.0          A  \n",
       "\n",
       "[5 rows x 21 columns]"
      ]
     },
     "execution_count": 70,
     "metadata": {},
     "output_type": "execute_result"
    }
   ],
   "source": [
    "data.rename(columns={'Unnamed: 0':'Name'},inplace='TRUE') # rename the first col \n",
    "data.head(5)"
   ]
  },
  {
   "cell_type": "code",
   "execution_count": 71,
   "metadata": {},
   "outputs": [],
   "source": [
    "X=data.drop(['Name','League','Division','NewLeague','Salary'],axis=1) #drop non-numerical\n",
    "Y=data['Salary']"
   ]
  },
  {
   "cell_type": "markdown",
   "metadata": {},
   "source": [
    "## 1.1 Lasso"
   ]
  },
  {
   "cell_type": "markdown",
   "metadata": {},
   "source": [
    "Use LASSO regression to predict Salary from the other numeric predictors.\n",
    "Create a visualization of the coe\u000ecient trajectories.  "
   ]
  },
  {
   "cell_type": "code",
   "execution_count": 90,
   "metadata": {},
   "outputs": [
    {
     "name": "stderr",
     "output_type": "stream",
     "text": [
      "/Users/qq/anaconda3/lib/python3.6/site-packages/sklearn/linear_model/coordinate_descent.py:491: ConvergenceWarning: Objective did not converge. You might want to increase the number of iterations. Fitting data with very small alpha may cause precision problems.\n",
      "  ConvergenceWarning)\n",
      "/Users/qq/anaconda3/lib/python3.6/site-packages/sklearn/linear_model/coordinate_descent.py:491: ConvergenceWarning: Objective did not converge. You might want to increase the number of iterations. Fitting data with very small alpha may cause precision problems.\n",
      "  ConvergenceWarning)\n"
     ]
    },
    {
     "data": {
      "image/png": "[encoded data removed]",
      "text/plain": [
       "<matplotlib.figure.Figure at 0x114ae4908>"
      ]
     },
     "metadata": {},
     "output_type": "display_data"
    }
   ],
   "source": [
    "#set training and test dataset\n",
    "X_train,X_test,Y_train,Y_test=train_test_split(X,Y,train_size=0.8,random_state = 2)\n",
    "X_train=scale(X_train)\n",
    "alpha=[1e-10,1e-5,1,3,5,8,10]\n",
    "lasso=Lasso()\n",
    "coef=[]\n",
    "for a in alpha:\n",
    "    lasso.set_params(alpha=a)\n",
    "    lasso.fit(X_train,Y_train)\n",
    "    coef.append(lasso.coef_)\n",
    "\n",
    "lasso_plot = plt.gca()\n",
    "lasso_plot.plot(alpha, coef)\n",
    "lasso_plot.set_xscale('log')\n",
    "plt.axis('tight')\n",
    "plt.xlabel('alpha')\n",
    "plt.ylabel('weights')\n",
    "plt.show()"
   ]
  },
  {
   "cell_type": "markdown",
   "metadata": {},
   "source": [
    "Comment on which are the final three predictors that remain in the model."
   ]
  },
  {
   "cell_type": "code",
   "execution_count": 95,
   "metadata": {},
   "outputs": [
    {
     "data": {
      "text/plain": [
       "AtBat       0.000000\n",
       "Hits        0.000000\n",
       "HmRun       0.000000\n",
       "Runs        0.000000\n",
       "RBI         0.000000\n",
       "Walks       0.000000\n",
       "Years       0.000000\n",
       "CAtBat      0.000000\n",
       "CHits       0.000000\n",
       "CHmRun     47.648667\n",
       "CRuns      13.542515\n",
       "CRBI       33.518086\n",
       "CWalks      0.000000\n",
       "PutOuts     0.000000\n",
       "Assists     0.000000\n",
       "Errors     -0.000000\n",
       "dtype: float64"
      ]
     },
     "execution_count": 95,
     "metadata": {},
     "output_type": "execute_result"
    }
   ],
   "source": [
    "lasso.set_params(alpha=180)\n",
    "lasso.fit(scale(X_train), Y_train)\n",
    "coef.append(lasso.coef_)\n",
    "pd.Series(lasso.coef_, index=X.columns)"
   ]
  },
  {
   "cell_type": "markdown",
   "metadata": {},
   "source": [
    "I set the parameter alpha=100 so that there are 3 columns remaining in the model, they are CHmRun,CRuns and CRBI\n",
    "."
   ]
  },
  {
   "cell_type": "code",
   "execution_count": 96,
   "metadata": {},
   "outputs": [
    {
     "name": "stdout",
     "output_type": "stream",
     "text": [
      "The optimal value of the regularization penality is 2.70573428625\n"
     ]
    }
   ],
   "source": [
    "# Apply cross validation\n",
    "lasso_cv=LassoCV(alphas = None,cv = 10, max_iter = 100000)\n",
    "lasso_cv.fit(X_train,Y_train)\n",
    "best_alpha=lasso_cv.alpha_\n",
    "print('The optimal value of the regularization penality is',best_alpha)"
   ]
  },
  {
   "cell_type": "code",
   "execution_count": 97,
   "metadata": {},
   "outputs": [
    {
     "data": {
      "text/plain": [
       "AtBat     -265.557534\n",
       "Hits       295.615587\n",
       "HmRun        3.872466\n",
       "Runs         0.000000\n",
       "RBI         -0.000000\n",
       "Walks       85.752722\n",
       "Years      -20.338981\n",
       "CAtBat     -37.441264\n",
       "CHits        0.000000\n",
       "CHmRun     160.768734\n",
       "CRuns      253.414057\n",
       "CRBI         0.000000\n",
       "CWalks    -114.515092\n",
       "PutOuts     96.018644\n",
       "Assists     25.644582\n",
       "Errors       0.000000\n",
       "dtype: float64"
      ]
     },
     "execution_count": 97,
     "metadata": {},
     "output_type": "execute_result"
    }
   ],
   "source": [
    "lasso.set_params(alpha=best_alpha)\n",
    "lasso.fit(X_train,Y_train)\n",
    "pd.Series(lasso.coef_,index=X.columns)"
   ]
  },
  {
   "cell_type": "markdown",
   "metadata": {},
   "source": [
    "There are 11 predictors:AtBat, Hits,HmRun,Walks,Years,CAtBat,CHmRun,CRuns,CWalks,PutOuts and Assists that have non-zero coefficients, indicating that these 11 predictors remain in the model when applying the optimal regularization penalty."
   ]
  },
  {
   "cell_type": "markdown",
   "metadata": {},
   "source": [
    "## 1.2 Ridge"
   ]
  },
  {
   "cell_type": "code",
   "execution_count": 98,
   "metadata": {},
   "outputs": [
    {
     "data": {
      "image/png": "[encoded data removed]",
      "text/plain": [
       "<matplotlib.figure.Figure at 0x114b864e0>"
      ]
     },
     "metadata": {},
     "output_type": "display_data"
    }
   ],
   "source": [
    "alpha=[1e-10,1e-5,1,3,5,8,10]\n",
    "ridge=Ridge()\n",
    "ridge_coef=[]\n",
    "for a in alpha:\n",
    "    ridge.set_params(alpha=a)\n",
    "    ridge.fit(X_train,Y_train)\n",
    "    ridge_coef.append(ridge.coef_)\n",
    "#print(ridge_coef)\n",
    "\n",
    "\n",
    "ridge_plot = plt.gca()\n",
    "ridge_plot.plot(alpha, ridge_coef)\n",
    "ridge_plot.set_xscale('log')\n",
    "plt.axis('tight')\n",
    "plt.xlabel('alpha')\n",
    "plt.ylabel('weights')\n",
    "plt.show()"
   ]
  },
  {
   "cell_type": "code",
   "execution_count": 99,
   "metadata": {},
   "outputs": [
    {
     "name": "stdout",
     "output_type": "stream",
     "text": [
      "The optimal value of regularization penalty is 5.0\n"
     ]
    }
   ],
   "source": [
    "# apply cross validation\n",
    "ridge_cv=RidgeCV(alphas=alpha,scoring = 'neg_mean_squared_error')\n",
    "ridge_cv.fit(X_train,Y_train)\n",
    "best_alpha=ridge_cv.alpha_\n",
    "print('The optimal value of regularization penalty is',best_alpha)"
   ]
  },
  {
   "cell_type": "code",
   "execution_count": 100,
   "metadata": {},
   "outputs": [
    {
     "data": {
      "text/plain": [
       "array([-197.10447865,  209.28728354,   11.67540974,   33.57409326,\n",
       "        -13.93245528,   76.03644042,  -32.4740404 ,  -94.38552967,\n",
       "         98.40750388,  135.76667264,  170.46796371,   56.09937956,\n",
       "        -93.12209977,   96.4316618 ,   31.01052191,   -6.90484231])"
      ]
     },
     "execution_count": 100,
     "metadata": {},
     "output_type": "execute_result"
    }
   ],
   "source": [
    "ridge.set_params(alpha=best_alpha)\n",
    "ridge.fit(X_train,Y_train)\n",
    "ridge.coef_"
   ]
  },
  {
   "cell_type": "markdown",
   "metadata": {},
   "source": [
    "There is no coefficients equaling to zero, because Ridge cannot be used to do model selesction. "
   ]
  },
  {
   "cell_type": "markdown",
   "metadata": {},
   "source": [
    "## 2. Short Answer "
   ]
  },
  {
   "cell_type": "markdown",
   "metadata": {},
   "source": [
    "#### Explain in your own words the bias-variance tradeoff."
   ]
  },
  {
   "cell_type": "markdown",
   "metadata": {},
   "source": [
    "Variance tells the spread-out of the dataset, and bias is the difference between our model and the correct model.\n",
    "Increasing the bias will decrease the variance.Increasing the variance will decrease the bias. But we want a model with both low variace and low bias, so we need bias & variance trade off.\n",
    "Bias and variance trade-off can be considered to check if the model fit well. If the models has small variance and high bias, there is an underfitting. If the models has high variance and small bias, there is an overfitting.\n"
   ]
  },
  {
   "cell_type": "markdown",
   "metadata": {},
   "source": [
    "#### What role does regularization play in this tradeoff?Make reference to your findings in number (1) to describe models of high/low bias and variance."
   ]
  },
  {
   "cell_type": "markdown",
   "metadata": {},
   "source": [
    "Regularization helps us to adjust the weight of each independent variable and shrink the contribution of each variable. Therefore, we can get a midpoint between high variance and high bias by regularization."
   ]
  },
  {
   "cell_type": "markdown",
   "metadata": {},
   "source": [
    "From the Lasso and Rifge model:\n",
    "After applying the optimal value of the penalty, Lasso shrinks the coeffieicents of some features to 0, and leaves 7 features in the mode, but Ridge contains all the predictors in the model. Hence, Ridge has higher variance but lower bias and Lasso has lower variance but higher bias."
   ]
  }
 ],
 "metadata": {
  "kernelspec": {
   "display_name": "Python 3",
   "language": "python",
   "name": "python3"
  },
  "language_info": {
   "codemirror_mode": {
    "name": "ipython",
    "version": 3
   },
   "file_extension": ".py",
   "mimetype": "text/x-python",
   "name": "python",
   "nbconvert_exporter": "python",
   "pygments_lexer": "ipython3",
   "version": "3.6.3"
  }
 },
 "nbformat": 4,
 "nbformat_minor": 2
}
